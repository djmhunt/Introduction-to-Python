{
 "metadata": {
  "name": "",
  "signature": "sha256:665448fca03db767b2f8e8bd42acceca3c08c9ca7174c465731f79701290ab97"
 },
 "nbformat": 3,
 "nbformat_minor": 0,
 "worksheets": [
  {
   "cells": [
    {
     "cell_type": "heading",
     "level": 3,
     "metadata": {},
     "source": [
      "Purpose of the document"
     ]
    },
    {
     "cell_type": "markdown",
     "metadata": {},
     "source": [
      "This document supplements the [Introduction to Python](http://nbviewer.ipython.org/github/djmhunt/Introduction-to-Python/blob/master/Introduction%20to%20Python.ipynb) written for psychology researchers at Goldsmiths. This document is aimed as a resource for those who are already experienced programmers to help them find resources relevant to Python that are outside of the scope psychology research.\n",
      "\n",
      "As with the Introduction to Python, this document is expected to be a living and dynamic text, updated based on new developments and, more importantly, your feedback, questions and ideas. All will be gratefully received by Dominic Hunt at <psp01dh@gold.ac.uk>."
     ]
    },
    {
     "cell_type": "markdown",
     "metadata": {},
     "source": [
      "The document is split into three sections:\n",
      "\n",
      "* A description of more useful Python packages\n",
      "* A list of advanced Python programming resources and tutorials\n",
      "* Example uses of packages"
     ]
    },
    {
     "cell_type": "heading",
     "level": 1,
     "metadata": {},
     "source": [
      "Python packages"
     ]
    },
    {
     "cell_type": "markdown",
     "metadata": {},
     "source": [
      "Python is often described as having the kitchen sink built in with the extensive [Standard library](https://docs.python.org/2.7/library/index.html#library-index). However, it does not contain everything nor does it contain necessarily the best implementation of everything. Thankfully, the large community does cover most of the rest. From [XKCD](http://xkcd.com/):"
     ]
    },
    {
     "cell_type": "markdown",
     "metadata": {},
     "source": [
      "<a href=\"http://xkcd.com/353/\"><img src=\"http://imgs.xkcd.com/comics/python.png\"></a>"
     ]
    },
    {
     "cell_type": "markdown",
     "metadata": {},
     "source": [
      "Here are some highlights from the Standard Library:\n",
      "\n",
      "* [File and Directory Access](https://docs.python.org/2/library/filesys.html)\n",
      "* [Functions creating iterators for efficient looping](https://docs.python.org/2/library/itertools.html)\n",
      "* [Python object serialization](https://docs.python.org/2/library/pickle.html) and the [faster version](https://docs.python.org/2/library/pickle.html#module-cPickle)\n",
      "* [Logging facility for Python](https://docs.python.org/2/library/logging.html)"
     ]
    },
    {
     "cell_type": "heading",
     "level": 3,
     "metadata": {},
     "source": [
      "Cloud computing"
     ]
    },
    {
     "cell_type": "markdown",
     "metadata": {},
     "source": [
      "* [PythonAnywhere](https://www.pythonanywhere.com/) is a service for developing and hosting online Python applications. Potentially could be used for hosting a complex online study or performing web scraping.\n",
      "* [Amazon Elastic compute cloud](http://aws.amazon.com/ec2/) can be accessed with [StarCluster](http://star.mit.edu/cluster/) and [Boto](http://docs.pythonboto.org/) and used to show [IPython notebooks](https://notebookcloud.appspot.com/docs).\n",
      "* The [Google Compute engine](https://developers.google.com/compute/) is written with Python in mind for processor intensive tasks.\n",
      "* The [Google App Engine](https://developers.google.com/appengine/) can be used to host Python applications. A good example is a [live SymPy terminal](http://live.sympy.org/) or the more fancy SymPy equivalent to [Wolfram Alpha](http://www.wolframalpha.com): [SymPy Gamma](http://www.sympygamma.com).\n",
      "* [Multyvac](http://www.multyvac.com/) is an open source system for run computationally and/or data intensive workloads. They have Python libraries for submitting jobs directly from Python to their service or your own server."
     ]
    },
    {
     "cell_type": "heading",
     "level": 3,
     "metadata": {},
     "source": [
      "GUI programming"
     ]
    },
    {
     "cell_type": "markdown",
     "metadata": {},
     "source": [
      "The three main cross-platform GUI libraries are [TkInter](https://wiki.python.org/moin/TkInter) (part of the Standard library), [QT](http://qt-project.org/wiki/PySide) and [wxpython](http://www.wxpython.org/) (with the more pythonic wrapper of [wax](http://waxgui.sourceforge.net/)). \n",
      "\n",
      "For website development there is [Pyjs](http://pyjs.org/)."
     ]
    },
    {
     "cell_type": "heading",
     "level": 3,
     "metadata": {},
     "source": [
      "Parallel processing"
     ]
    },
    {
     "cell_type": "markdown",
     "metadata": {},
     "source": [
      "It used to be the case that Python could not be parellalised, because of the [Global Interpreter Lock (GIL)](https://wiki.python.org/moin/GlobalInterpreterLock). However, there are now packages to help you parallelise Python code. Some of these are:\n",
      "\n",
      "* [multiprocessing](https://docs.python.org/2/library/multiprocessing.html), in the standard library, offers both local and remote concurrency by using subprocesses instead of threads to effectively side-stepp the Global Interpreter Lock.\n",
      "* IPython [has functionality](http://ipython.org/ipython-doc/dev/parallel/index.html) for running multiple different forms of parallel processing. A very basic example can be found in [this IPython notebook](http://nbviewer.ipython.org/gist/jtriley/3866987) "
     ]
    },
    {
     "cell_type": "heading",
     "level": 3,
     "metadata": {},
     "source": [
      "Replacing the command line"
     ]
    },
    {
     "cell_type": "markdown",
     "metadata": {},
     "source": [
      "It is possible to have the power of Bash scripts in Python, as described in the article [Python for Bash Scripters](http://magazine.redhat.com/2008/02/07/python-for-bash-scripters-a-well-kept-secret/)."
     ]
    },
    {
     "cell_type": "heading",
     "level": 3,
     "metadata": {},
     "source": [
      "Debugging"
     ]
    },
    {
     "cell_type": "markdown",
     "metadata": {},
     "source": [
      "[Winpdb](http://winpdb.org/download/) is a platform independent GPL Python debugger with support for multiple threads, namespace modification, embedded debugging, encrypted communication and is up to 20 times faster than the [standard Python debugger](https://docs.python.org/2/library/pdb.html) and has a GUI."
     ]
    },
    {
     "cell_type": "heading",
     "level": 3,
     "metadata": {},
     "source": [
      "Documentation"
     ]
    },
    {
     "cell_type": "markdown",
     "metadata": {},
     "source": [
      "[Sphinx](http://sphinx-doc.org/) is the standard tool for creating documentation documents within Python with good reason. The sytax used by Sphinx is [reStructuredText](http://docutils.sourceforge.net/rst.html), which _attempts to define and implement a markup syntax for use in Python docstrings and other documentation domains, that is readable and simple, yet powerful enough for non-trivial use. The intended purpose of the markup is the conversion of reStructuredText documents into useful structured data formats._ "
     ]
    },
    {
     "cell_type": "heading",
     "level": 3,
     "metadata": {},
     "source": [
      "Testing"
     ]
    },
    {
     "cell_type": "markdown",
     "metadata": {},
     "source": [
      "There are to my knowledge three main testing packages:\n",
      "\n",
      "* [unittest](https://docs.python.org/2/library/unittest.html) is built in to the Python standard library.\n",
      "* [Nose](http://nose.readthedocs.org) is written as an extension of unittest.\n",
      "* [pytest](http://pytest.org) is a testing framework with no boilerplate and simple test discovery that is also capable of running the tests written for unittest and nose.\n",
      "\n",
      "A good overview of them can be found in the blog [Python testing](http://pythontesting.net)."
     ]
    },
    {
     "cell_type": "heading",
     "level": 3,
     "metadata": {},
     "source": [
      "Other Python distributions"
     ]
    },
    {
     "cell_type": "markdown",
     "metadata": {},
     "source": [
      "[Endthought Canopy](https://www.enthought.com/products/canopy/), which runs on Windows, Linux or OSX and is free for academic use. \n",
      "\n",
      "[Pyzo](http://www.pyzo.org/) is another distribution that runs on runs on Windows, Linux or OSX and that installs without needing adminstrator priviledges. It is only a Python 3 distribution."
     ]
    },
    {
     "cell_type": "heading",
     "level": 3,
     "metadata": {},
     "source": [
      "Other IDEs"
     ]
    },
    {
     "cell_type": "markdown",
     "metadata": {},
     "source": [
      "* [Interactive Editor for Python (IEP)](http://www.iep-project.org/) is a cross-platform Python IDE aimed at interactivity and introspection while being light.\n",
      "* If you enjoy the Visual Studio development environment and have been using the [Goldsmiths Dreamspark copy](http://e5.onthehub.com/WebStore/ProductsByMajorVersionList.aspx?ws=c1079a19-836f-e011-971f-0030487d8897&vsro=8), then you can use it for Python with the addon [Python for Visual Studio](http://pytools.codeplex.com/)"
     ]
    },
    {
     "cell_type": "heading",
     "level": 1,
     "metadata": {},
     "source": [
      "Resources for learning about Python"
     ]
    },
    {
     "cell_type": "markdown",
     "metadata": {},
     "source": [
      "To advance your more formal understanding of programming, a resource written using Python examples is [Think Python: How to Think Like a Computer Scientist](http://greenteapress.com/thinkpython/html/index.html).\n",
      "\n",
      "I have also seen some people recommending [Learn Python the Hard Way](http://learnpythonthehardway.org/book/)."
     ]
    },
    {
     "cell_type": "markdown",
     "metadata": {},
     "source": [
      "The canonical description of the design philosophy of the Python community can be found The Zen of Python. It can be accessed from within Python with the simple line:"
     ]
    },
    {
     "cell_type": "code",
     "collapsed": false,
     "input": [
      "import this"
     ],
     "language": "python",
     "metadata": {},
     "outputs": [
      {
       "output_type": "stream",
       "stream": "stdout",
       "text": [
        "The Zen of Python, by Tim Peters\n",
        "\n",
        "Beautiful is better than ugly.\n",
        "Explicit is better than implicit.\n",
        "Simple is better than complex.\n",
        "Complex is better than complicated.\n",
        "Flat is better than nested.\n",
        "Sparse is better than dense.\n",
        "Readability counts.\n",
        "Special cases aren't special enough to break the rules.\n",
        "Although practicality beats purity.\n",
        "Errors should never pass silently.\n",
        "Unless explicitly silenced.\n",
        "In the face of ambiguity, refuse the temptation to guess.\n",
        "There should be one-- and preferably only one --obvious way to do it.\n",
        "Although that way may not be obvious at first unless you're Dutch.\n",
        "Now is better than never.\n",
        "Although never is often better than *right* now.\n",
        "If the implementation is hard to explain, it's a bad idea.\n",
        "If the implementation is easy to explain, it may be a good idea.\n",
        "Namespaces are one honking great idea -- let's do more of those!\n"
       ]
      }
     ],
     "prompt_number": 1
    },
    {
     "cell_type": "heading",
     "level": 1,
     "metadata": {},
     "source": [
      "Example uses of packages"
     ]
    },
    {
     "cell_type": "code",
     "collapsed": false,
     "input": [],
     "language": "python",
     "metadata": {},
     "outputs": []
    }
   ],
   "metadata": {}
  }
 ]
}