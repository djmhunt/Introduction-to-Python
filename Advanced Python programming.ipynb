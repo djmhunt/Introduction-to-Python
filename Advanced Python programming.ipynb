{
 "cells": [
  {
   "cell_type": "markdown",
   "metadata": {},
   "source": [
    "# Purpose of the document"
   ]
  },
  {
   "cell_type": "markdown",
   "metadata": {},
   "source": [
    "This document supplements the [Introduction to Python](http://nbviewer.jupyter.org/github/djmhunt/Introduction-to-Python/blob/master/Introduction%20to%20Python.ipynb) written for psychology researchers at Goldsmiths. This document is aimed as a resource for those who are already experienced programmers to help them find resources relevant to Python that are outside of the scope of normal psychology research.\n",
    "\n",
    "As with the Introduction to Python, this document is expected to be a living and dynamic text, updated based on new developments and, more importantly, your feedback, questions and ideas. All will be gratefully received by Dominic Hunt at <psp01dh@gold.ac.uk>."
   ]
  },
  {
   "cell_type": "markdown",
   "metadata": {},
   "source": [
    "The document is split into three sections:\n",
    "\n",
    "* A description of more useful Python packages\n",
    "* A list of advanced Python programming resources and tutorials\n",
    "* Example uses of packages"
   ]
  },
  {
   "cell_type": "markdown",
   "metadata": {},
   "source": [
    "# Python packages"
   ]
  },
  {
   "cell_type": "markdown",
   "metadata": {},
   "source": [
    "Python is often described as having the kitchen sink built in with the extensive [Standard library](https://docs.python.org/2.7/library/index.html#library-index). However, it does not contain everything nor does it contain necessarily the best implementation of everything. Thankfully, the large community does cover most of the rest. From [XKCD](http://xkcd.com/):"
   ]
  },
  {
   "cell_type": "markdown",
   "metadata": {},
   "source": [
    "<a href=\"http://xkcd.com/353/\"><img src=\"http://imgs.xkcd.com/comics/python.png\"></a>"
   ]
  },
  {
   "cell_type": "markdown",
   "metadata": {},
   "source": [
    "Here are some highlights from the Standard Library:\n",
    "\n",
    "* [File and Directory Access](https://docs.python.org/2/library/filesys.html)\n",
    "* [Functions creating iterators for efficient looping](https://docs.python.org/2/library/itertools.html)\n",
    "* [Python object serialization](https://docs.python.org/2/library/pickle.html) and the [faster version](https://docs.python.org/2/library/pickle.html#module-cPickle)\n",
    "* [Logging facility for Python](https://docs.python.org/2/library/logging.html)\n",
    "* [A Python 2 to Python 3 converter](https://docs.python.org/2/library/2to3.html)\n",
    "* [An interfaces for communicating by internet protocols](https://docs.python.org/2/library/internet.html)"
   ]
  },
  {
   "cell_type": "markdown",
   "metadata": {},
   "source": [
    "## Cloud computing"
   ]
  },
  {
   "cell_type": "markdown",
   "metadata": {},
   "source": [
    "* [PythonAnywhere](https://www.pythonanywhere.com/) is a service for developing and hosting online Python applications. Potentially could be used for hosting a complex online study or performing web scraping.\n",
    "* [Amazon Elastic compute cloud](http://aws.amazon.com/ec2/) can be accessed with [StarCluster](http://star.mit.edu/cluster/) and [Boto](http://docs.pythonboto.org/) and used to show [jupyter notebooks](https://notebookcloud.appspot.com/docs).\n",
    "* The [Google Compute engine](https://developers.google.com/compute/) is written with Python in mind for processor intensive tasks.\n",
    "* The [Google App Engine](https://developers.google.com/appengine/) can be used to host Python applications. A good example is a [live SymPy terminal](http://live.sympy.org/) or the more fancy SymPy equivalent to [Wolfram Alpha](http://www.wolframalpha.com): [SymPy Gamma](http://www.sympygamma.com).\n",
    "* [Multyvac](http://www.multyvac.com/) is an open source system for run computationally and/or data intensive workloads. They have Python libraries for submitting jobs directly from Python to their service or your own server."
   ]
  },
  {
   "cell_type": "markdown",
   "metadata": {},
   "source": [
    "## GUI programming"
   ]
  },
  {
   "cell_type": "markdown",
   "metadata": {},
   "source": [
    "The three main cross-platform GUI libraries are [TkInter](https://wiki.python.org/moin/TkInter) (part of the Standard library), [QT](http://qt-project.org/wiki/PySide) and [wxpython](http://www.wxpython.org/) (with the more pythonic wrapper of [wax](http://waxgui.sourceforge.net/)). \n",
    "\n",
    "For website development there is [Pyjs](http://pyjs.org/).\n",
    "\n",
    "For more low level control [SDL](www.libsdl.org) has Python bindings and is a cross-platform development library designed to provide low level access to audio, keyboard, mouse, joystick, and graphics hardware via OpenGL and Direct3D."
   ]
  },
  {
   "cell_type": "markdown",
   "metadata": {},
   "source": [
    "## Parallel processing"
   ]
  },
  {
   "cell_type": "markdown",
   "metadata": {},
   "source": [
    "It used to be the case that Python could not be parellalised, because of the [Global Interpreter Lock (GIL)](https://wiki.python.org/moin/GlobalInterpreterLock). However, there are now packages to help you parallelise Python code. Some of these are:\n",
    "\n",
    "* [multiprocessing](https://docs.python.org/2/library/multiprocessing.html), in the standard library, offers both local and remote concurrency by using subprocesses instead of threads to effectively side-stepp the Global Interpreter Lock.\n",
    "* IPython [has functionality](http://ipython.org/ipython-doc/dev/parallel/index.html) for running multiple different forms of parallel processing. A very basic example can be found in [this IPython notebook](http://nbviewer.ipython.org/gist/jtriley/3866987) \n",
    "* [Pathos](trac.mystic.cacr.caltech.edu/project/pathos)  is a framework for heterogenous computing. It primarily provides the communication mechanisms for configuring and launching parallel computations across heterogenous resources. Pathos provides stagers and launchers for parallel and distributed computing, where each launcher contains the syntactic logic to configure and launch jobs in an execution environment. Some examples of included launchers are: a queue-less MPI-based launcher, a ssh-based launcher, and a multiprocessing launcher. Pathos also provides a map-reduce algorithm for each of the available launchers, thus greatly lowering the barrier for users to extend their code to parallel and distributed resources. Pathos provides the ability to interact with batch schedulers and queuing systems, thus allowing large computations to be easily launched on high-performance computing resources. One of the most powerful features of pathos is \"tunnel\", which enables a user to automatically wrap any distributed service calls within a ssh-tunnel.\n",
    "* "
   ]
  },
  {
   "cell_type": "markdown",
   "metadata": {},
   "source": [
    "## Replacing the command line"
   ]
  },
  {
   "cell_type": "markdown",
   "metadata": {},
   "source": [
    "It is possible to have the power of Bash scripts in Python, as described in the article [Python for Bash Scripters](http://magazine.redhat.com/2008/02/07/python-for-bash-scripters-a-well-kept-secret/). I would also have a look at the functions provided by the [iPython command line](http://ipython.org/ipython-doc/stable/interactive/tutorial.html)"
   ]
  },
  {
   "cell_type": "markdown",
   "metadata": {},
   "source": [
    "## Communication"
   ]
  },
  {
   "cell_type": "markdown",
   "metadata": {},
   "source": [
    "[Twilio](https://www.twilio.com/docs/quickstart/python/sms/sending-via-rest) allows you to send text messages and manage sending and recieving phone calls through their service. It has a free SMS service for low volumes. There are other SMS API's, but this is the most used."
   ]
  },
  {
   "cell_type": "markdown",
   "metadata": {},
   "source": [
    "## Speech recognition"
   ]
  },
  {
   "cell_type": "markdown",
   "metadata": {},
   "source": [
    "[Dragonfly](https://github.com/t4ngo/dragonfly) is a speech recognition framework. It is a Python package which offers a high-level object model and allows its users to easily write scripts, macros, and programs which use speech recognition.\n",
    "\n",
    "It currently supports the following speech recognition engines: Dragon NaturallySpeaking (DNS), a product of Nuance and Windows Speech Recognition (WSR), included with Microsoft Windows Vista, Windows 7, and freely available for Windows XP.\n"
   ]
  },
  {
   "cell_type": "markdown",
   "metadata": {},
   "source": [
    "## Debugging"
   ]
  },
  {
   "cell_type": "markdown",
   "metadata": {},
   "source": [
    "[Winpdb](http://winpdb.org/download/) is a platform independent GPL Python debugger with support for multiple threads, namespace modification, embedded debugging, encrypted communication and is up to 20 times faster than the [standard Python debugger](https://docs.python.org/2/library/pdb.html) and has a GUI.\n",
    "\n",
    "Short pure Python code can be tested online with [ideone](ideone.com), which gives you an online editable file where you can run your code for free."
   ]
  },
  {
   "cell_type": "markdown",
   "metadata": {},
   "source": [
    "## Documentation"
   ]
  },
  {
   "cell_type": "markdown",
   "metadata": {},
   "source": [
    "[Sphinx](http://sphinx-doc.org/) is the standard tool for creating documentation documents within Python with good reason. The sytax used by Sphinx is [reStructuredText](http://docutils.sourceforge.net/rst.html), which _attempts to define and implement a markup syntax for use in Python docstrings and other documentation domains, that is readable and simple, yet powerful enough for non-trivial use. The intended purpose of the markup is the conversion of reStructuredText documents into useful structured data formats._ "
   ]
  },
  {
   "cell_type": "markdown",
   "metadata": {},
   "source": [
    "## Testing"
   ]
  },
  {
   "cell_type": "markdown",
   "metadata": {},
   "source": [
    "There are to my knowledge three main testing packages:\n",
    "\n",
    "* [unittest](https://docs.python.org/2/library/unittest.html) is built in to the Python standard library.\n",
    "* [Nose](http://nose.readthedocs.org) is written as an extension of unittest.\n",
    "* [pytest](http://pytest.org) is a testing framework with no boilerplate and simple test discovery that is also capable of running the tests written for unittest and nose.\n",
    "\n",
    "A good overview of them can be found in the blog [Python testing](http://pythontesting.net)."
   ]
  },
  {
   "cell_type": "markdown",
   "metadata": {},
   "source": [
    "## Other Python distributions"
   ]
  },
  {
   "cell_type": "markdown",
   "metadata": {},
   "source": [
    "[Endthought Canopy](https://www.enthought.com/products/canopy/), which runs on Windows, Linux or OSX and is free for academic use. \n",
    "\n",
    "[Pyzo](http://www.pyzo.org/) is another distribution that runs on runs on Windows, Linux or OSX and that installs without needing adminstrator priviledges. It is only a Python 3 distribution."
   ]
  },
  {
   "cell_type": "markdown",
   "metadata": {},
   "source": [
    "## Other IDEs"
   ]
  },
  {
   "cell_type": "markdown",
   "metadata": {},
   "source": [
    "* One that is aimed squarely at programmers with complicated code is [JetBrains PyCharm](https://www.jetbrains.com/pycharm/). This is the IDE I prefer for now.\n",
    "* [Interactive Editor for Python (IEP)](http://www.iep-project.org/) is a cross-platform Python IDE aimed at interactivity and introspection while being light.\n",
    "* If you enjoy the Visual Studio development environment and have been using the [Goldsmiths Dreamspark copy](http://e5.onthehub.com/WebStore/ProductsByMajorVersionList.aspx?ws=c1079a19-836f-e011-971f-0030487d8897&vsro=8), then you can use it for Python with the addon [Python for Visual Studio](http://pytools.codeplex.com/)"
   ]
  },
  {
   "cell_type": "markdown",
   "metadata": {},
   "source": [
    "# Resources for learning about Python"
   ]
  },
  {
   "cell_type": "markdown",
   "metadata": {},
   "source": [
    "To advance your more formal understanding of programming, a resource written using Python examples is [Think Python: How to Think Like a Computer Scientist](http://greenteapress.com/thinkpython/html/index.html).\n",
    "\n",
    "I have also seen some people recommending [Learn Python the Hard Way](http://learnpythonthehardway.org/book/)."
   ]
  },
  {
   "cell_type": "markdown",
   "metadata": {},
   "source": [
    "The canonical description of the design philosophy of the Python community can be found The Zen of Python. It can be accessed from within Python with the simple line:"
   ]
  },
  {
   "cell_type": "code",
   "execution_count": 1,
   "metadata": {},
   "outputs": [
    {
     "name": "stdout",
     "output_type": "stream",
     "text": [
      "The Zen of Python, by Tim Peters\n",
      "\n",
      "Beautiful is better than ugly.\n",
      "Explicit is better than implicit.\n",
      "Simple is better than complex.\n",
      "Complex is better than complicated.\n",
      "Flat is better than nested.\n",
      "Sparse is better than dense.\n",
      "Readability counts.\n",
      "Special cases aren't special enough to break the rules.\n",
      "Although practicality beats purity.\n",
      "Errors should never pass silently.\n",
      "Unless explicitly silenced.\n",
      "In the face of ambiguity, refuse the temptation to guess.\n",
      "There should be one-- and preferably only one --obvious way to do it.\n",
      "Although that way may not be obvious at first unless you're Dutch.\n",
      "Now is better than never.\n",
      "Although never is often better than *right* now.\n",
      "If the implementation is hard to explain, it's a bad idea.\n",
      "If the implementation is easy to explain, it may be a good idea.\n",
      "Namespaces are one honking great idea -- let's do more of those!\n"
     ]
    }
   ],
   "source": [
    "import this"
   ]
  },
  {
   "cell_type": "markdown",
   "metadata": {},
   "source": [
    "# Example uses of packages"
   ]
  },
  {
   "cell_type": "code",
   "execution_count": 2,
   "metadata": {},
   "outputs": [
    {
     "data": {
      "application/json": {
       "Software versions": [
        {
         "module": "Python",
         "version": "2.7.13 64bit [MSC v.1500 64 bit (AMD64)]"
        },
        {
         "module": "IPython",
         "version": "5.3.0"
        },
        {
         "module": "OS",
         "version": "Windows 10 10.0.15063"
        },
        {
         "module": "numpy",
         "version": "1.12.1"
        },
        {
         "module": "scipy",
         "version": "0.19.0"
        },
        {
         "module": "matplotlib",
         "version": "2.0.1"
        },
        {
         "module": "pandas",
         "version": "0.20.1"
        }
       ]
      },
      "text/html": [
       "<table><tr><th>Software</th><th>Version</th></tr><tr><td>Python</td><td>2.7.13 64bit [MSC v.1500 64 bit (AMD64)]</td></tr><tr><td>IPython</td><td>5.3.0</td></tr><tr><td>OS</td><td>Windows 10 10.0.15063</td></tr><tr><td>numpy</td><td>1.12.1</td></tr><tr><td>scipy</td><td>0.19.0</td></tr><tr><td>matplotlib</td><td>2.0.1</td></tr><tr><td>pandas</td><td>0.20.1</td></tr><tr><td colspan='2'>Tue May 16 10:10:09 2017 GMT Summer Time</td></tr></table>"
      ],
      "text/latex": [
       "\\begin{tabular}{|l|l|}\\hline\n",
       "{\\bf Software} & {\\bf Version} \\\\ \\hline\\hline\n",
       "Python & 2.7.13 64bit [MSC v.1500 64 bit (AMD64)] \\\\ \\hline\n",
       "IPython & 5.3.0 \\\\ \\hline\n",
       "OS & Windows 10 10.0.15063 \\\\ \\hline\n",
       "numpy & 1.12.1 \\\\ \\hline\n",
       "scipy & 0.19.0 \\\\ \\hline\n",
       "matplotlib & 2.0.1 \\\\ \\hline\n",
       "pandas & 0.20.1 \\\\ \\hline\n",
       "\\hline \\multicolumn{2}{|l|}{Tue May 16 10:10:09 2017 GMT Summer Time} \\\\ \\hline\n",
       "\\end{tabular}\n"
      ],
      "text/plain": [
       "Software versions\n",
       "Python 2.7.13 64bit [MSC v.1500 64 bit (AMD64)]\n",
       "IPython 5.3.0\n",
       "OS Windows 10 10.0.15063\n",
       "numpy 1.12.1\n",
       "scipy 0.19.0\n",
       "matplotlib 2.0.1\n",
       "pandas 0.20.1\n",
       "Tue May 16 10:10:09 2017 GMT Summer Time"
      ]
     },
     "execution_count": 2,
     "metadata": {},
     "output_type": "execute_result"
    }
   ],
   "source": [
    "#%load_ext version_information\n",
    "#%reload_ext version_information\n",
    "\n",
    "%version_information numpy, scipy, matplotlib, pandas"
   ]
  },
  {
   "cell_type": "code",
   "execution_count": null,
   "metadata": {
    "collapsed": true
   },
   "outputs": [],
   "source": []
  }
 ],
 "metadata": {
  "anaconda-cloud": {},
  "kernelspec": {
   "display_name": "Python [conda root]",
   "language": "python",
   "name": "conda-root-py"
  },
  "language_info": {
   "codemirror_mode": {
    "name": "ipython",
    "version": 2
   },
   "file_extension": ".py",
   "mimetype": "text/x-python",
   "name": "python",
   "nbconvert_exporter": "python",
   "pygments_lexer": "ipython2",
   "version": "2.7.13"
  },
  "toc": {
   "colors": {
    "hover_highlight": "#DAA520",
    "navigate_num": "#000000",
    "navigate_text": "#333333",
    "running_highlight": "#FF0000",
    "selected_highlight": "#FFD700",
    "sidebar_border": "#EEEEEE",
    "wrapper_background": "#FFFFFF"
   },
   "moveMenuLeft": true,
   "nav_menu": {
    "height": "282px",
    "width": "252px"
   },
   "navigate_menu": true,
   "number_sections": true,
   "sideBar": true,
   "threshold": 4,
   "toc_cell": false,
   "toc_section_display": "block",
   "toc_window_display": false,
   "widenNotebook": false
  }
 },
 "nbformat": 4,
 "nbformat_minor": 1
}
