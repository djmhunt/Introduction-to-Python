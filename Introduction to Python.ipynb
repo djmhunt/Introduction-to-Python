{
 "metadata": {
  "name": "",
  "signature": "sha256:b27fa1643fdd83b6e8097d8a03708c099e325e4d4afabb8d7227a3f9f2c3c5f9"
 },
 "nbformat": 3,
 "nbformat_minor": 0,
 "worksheets": [
  {
   "cells": [
    {
     "cell_type": "code",
     "collapsed": false,
     "input": [
      "from IPython.display import Image\n",
      "Image('http://www.python.org/static/community_logos/python-logo-master-v3-TM-flattened.png')"
     ],
     "language": "python",
     "metadata": {},
     "outputs": [
      {
       "metadata": {},
       "output_type": "pyout",
       "png": "[encoded data removed]",
       "prompt_number": 2,
       "text": [
        "<IPython.core.display.Image at 0x4bbc590>"
       ]
      }
     ],
     "prompt_number": 2
    },
    {
     "cell_type": "heading",
     "level": 1,
     "metadata": {},
     "source": [
      "What is Python?"
     ]
    },
    {
     "cell_type": "markdown",
     "metadata": {},
     "source": [
      "Python is an easy to learn, powerful, open source programming language that runs on almost every operating system, including [iOS](https://itunes.apple.com/gb/app/python-2.7-for-ios/id485729872?mt=8). It has a vibrant community and is widely used for scientific programming and data analysis both in academia and in industry, with a broad range of free, well maintained, packages to help you:\n",
      "\n",
      "* Write and run experiments\n",
      "* Analyse large datasets\n",
      "* Produce publication-quality graphs\n",
      "* Write interactive documents, such as this one\n",
      "* Produce interactive computer programs that run across platforms\n",
      "* Scrape websites\n",
      "* Interface with low-level hardware controls\n",
      "* Much, much more"
     ]
    },
    {
     "cell_type": "markdown",
     "metadata": {},
     "source": [
      "Python code can be written in files which are executed or as individual commands in a terminal or command line. For Python the classic Hello World program is:"
     ]
    },
    {
     "cell_type": "code",
     "collapsed": false,
     "input": [
      "print \"Hello World\""
     ],
     "language": "python",
     "metadata": {},
     "outputs": [
      {
       "output_type": "stream",
       "stream": "stdout",
       "text": [
        "Hello World\n"
       ]
      }
     ],
     "prompt_number": 3
    },
    {
     "cell_type": "heading",
     "level": 1,
     "metadata": {},
     "source": [
      "Purpose of the rest of the document"
     ]
    },
    {
     "cell_type": "markdown",
     "metadata": {},
     "source": [
      "This document aims to give you a brief overview of how Python might supplement, replace or enhance the tools you currently use in your workflow as psychology researchers at Goldsmiths. It will cover some of the useful, mature packages found within the Python community, what resources exist on how to use them and how to install Python and its packages. It is hoped that this document will be a living and dynamic text, updated based on new developments and, more importantly, your feedback, questions and ideas. All will be gratefully received by [Dominic Hunt](psp01dh@gold.ac.uk).\n",
      "\n",
      "*This document is only in its draft stages and it is hoped with time it will be fleshed out. Feedback would be useful for knowing in what order to expand or rewrite the document*"
     ]
    },
    {
     "cell_type": "markdown",
     "metadata": {},
     "source": [
      "The rest of the document is broken up into a series of sections:\n",
      "\n",
      "* An overview of scientific Python packages and software and how they might be useful to you. \n",
      "* A list of tutorials and resources for learning Python and Python packages\n",
      "* Details on how to install Python across different operating systems\n",
      "* Package specific use examples"
     ]
    },
    {
     "cell_type": "heading",
     "level": 1,
     "metadata": {},
     "source": [
      "Python packages and software"
     ]
    },
    {
     "cell_type": "markdown",
     "metadata": {},
     "source": [
      "This is a non-exhaustive list of all the packages which might be useful to your work. Packages may be listed twice if it is felt they fit into more than one category."
     ]
    },
    {
     "cell_type": "heading",
     "level": 3,
     "metadata": {},
     "source": [
      "Neuroscience, neuroimaging and EEG "
     ]
    },
    {
     "cell_type": "markdown",
     "metadata": {},
     "source": [
      "* [MNE](http://martinos.org/mne/stable/index.html) is a software package for processing magnetoencephalography (MEG) and electroencephalography (EEG) data which can run in MATLAB or Python.\n",
      "* [Brain](http://briansimulator.org/) is a simulator for spiking neural networks. A paper describing its use can be found here: [doi:10.3389/neuro.11.005.2008](http://journal.frontiersin.org/Journal/10.3389/neuro.11.005.2008/full).\n",
      "* [Neurosynth](http://neurosynth.org/) is a platform for large-scale, automated synthesis of functional magnetic resonance imaging (fMRI) data extracted from published articles."
     ]
    },
    {
     "cell_type": "markdown",
     "metadata": {},
     "source": [
      "[NiPy](http://nipy.org/index.html) is a collection of packages for neuroimaging in Python. These include:\n",
      "\n",
      " * [PBrain](http://nipy.sourceforge.net/pbrain/) is a collection of applications for the analysis of EEG and medical image data. Currently there are two applications, eegview and loc3d. loc3d is a 3D image analysis application for localizing, identifying and labelling objects in image data, which we use primarily for locating electrodes in CT data. eegview is an eeg visualization and analysis application which has facilities for displaying the EEG mapped onto the spatial coordinates output from loc3d.\n",
      " * [NiBabel](http://nipy.org/nibabel/) read and write access to some common medical and neuroimaging file formats, including: ANALYZE (plain, SPM99, SPM2), GIFTI, NIfTI1, MINC, MGH and ECAT as well as PAR/REC. We can read and write Freesurfer geometry, and read Freesurfer morphometry and annotation files.\n",
      " * [Nipype](http://nipy.org/nipype/) provides a uniform interface to existing neuroimaging software and facilitates interaction between these packages (e.g., SPM, FSL, FreeSurfer, Camino, MRtrix, MNE, AFNI, Slicer)within a single workflow. \n",
      " * [Dipy](http://nipy.org/dipy/) is a package for diffusion magnetic resonance imaging (dMRI) analysis.\n",
      " * [Nitime](http://nipy.org/nitime/) library for time-series analysis of data from neuroscience experiments."
     ]
    },
    {
     "cell_type": "heading",
     "level": 3,
     "metadata": {},
     "source": [
      "Running experiments"
     ]
    },
    {
     "cell_type": "markdown",
     "metadata": {},
     "source": [
      "* [PsychoPy](http://psychopy.org/): An extendible program for writing experiments, running them and recording the data. Developed and used by the university of Nottingham, their first year labs, written in PsychoPy, can be found [here](http://equella.nottingham.ac.uk/uon/file/fb48f6ba-db59-9871-5f94-6d5df98a12b0/1/Psycho_Py.zip/psychospy%20%282%29/index.html). For current support within the department, please speak to Dominic Hunt."
     ]
    },
    {
     "cell_type": "heading",
     "level": 3,
     "metadata": {},
     "source": [
      "Analysing data"
     ]
    },
    {
     "cell_type": "markdown",
     "metadata": {},
     "source": [
      "Python has many interfaces for data analysis depending on your analysis style. All involve some coding, either on a command line or writing a script file. The most basic method is with an [IPython command line](http://ipython.org/), which will allow you to plot graphs in separate windows or inline with your commands. For a more static record of your analysis [IPython notebooks](http://ipython.org/) allow you to write dynamic, interactive, media rich documents with code and its outputs embedded. This document is an example of a simple IPython notebook. See much more detail below. If you like to manipulate and see the data directly in a more MATLAB interface, [Spyder](https://code.google.com/p/spyderlib/) aims to be as feature-rich as the MATLAB development environment and much in the same style."
     ]
    },
    {
     "cell_type": "markdown",
     "metadata": {},
     "source": [
      "For the actual analysis. This can be done using a series of packages:\n",
      "\n",
      "* [Pandas](http://pandas.pydata.org/) is a library providing high-performance, easy-to-use data structures and data analysis. Data can be accessed (as in SPSS) by variable, by case or by both or (as in Excel) by cell number.\n",
      "* [xlrd](https://pypi.python.org/pypi/xlrd) allows you to read in Excel files into Python. Pandas has this built in.\n",
      "* [Matplotlib](http://matplotlib.org/) is a 2D plotting library based on MATLAB which produces publication-quality figures in a variety of hard copy formats and interactive environments across platforms. Extended with [seaborn](http://stanford.edu/~mwaskom/software/seaborn/) and [prettyplotlib](http://olgabot.github.io/prettyplotlib/).\n",
      "* [StatsModels](http://statsmodels.sourceforge.net/) is a module that allows users to explore data, estimate statistical models, and perform statistical tests. An extensive list of descriptive statistics, statistical tests, plotting functions, and result statistics are available for different types of data and each estimator."
     ]
    },
    {
     "cell_type": "markdown",
     "metadata": {},
     "source": [
      "Alternatively:\n",
      "\n",
      "* [SPSS](http://www.spss-tutorials.com/python/) can run Python code using the official plugin found [here](https://www.ibm.com/developerworks/community/wikis/home?lang=en#!/wiki/We70df3195ec8_4f95_9773_42e448fa9029/page/Downloads%20for%20IBM%C2%AE%20SPSS%C2%AE%20Statistics). The documentation can be found [here](ftp://public.dhe.ibm.com/software/analytics/spss/documentation/statistics/20.0/en/pythonplugin/Manuals/Python_Scripting_Guide_for_IBM_SPSS_Statistics.pdf)\n",
      "* [PyXLL](https://www.pyxll.com/) allows you to use python functions directly in Excel\n",
      "* [rpy](http://rpy.sourceforge.net/) is an interface for running R code and receiving the outputs from within Python"
     ]
    },
    {
     "cell_type": "heading",
     "level": 3,
     "metadata": {},
     "source": [
      "Python development environments"
     ]
    },
    {
     "cell_type": "markdown",
     "metadata": {},
     "source": [
      "* [Spyder](https://code.google.com/p/spyderlib/) is a powerful interactive development environment for the Python language with advanced editing, interactive testing, debugging and introspection features. It aims to be as feature-rich as the MATLAB development environment.\n",
      "+ [IPython notebooks](http://ipython.org/) allow you to write dynamic, interactive, media rich documents with code and its outputs embedded. This document is an example of a simple IPython notebook. See much more detail in the example section."
     ]
    },
    {
     "cell_type": "heading",
     "level": 3,
     "metadata": {},
     "source": [
      "Software running Python"
     ]
    },
    {
     "cell_type": "markdown",
     "metadata": {},
     "source": [
      "* [PsychoPy](http://psychopy.org/): An extendible program for writing experiments, running them and recording the data. Developed and used by the university of Nottingham, their first year labs, written in PsychoPy, can be found [here](http://equella.nottingham.ac.uk/uon/file/fb48f6ba-db59-9871-5f94-6d5df98a12b0/1/Psycho_Py.zip/psychospy%20%282%29/index.html).\n",
      "* [SPSS](http://www.spss-tutorials.com/python/) can run Python code using the official plugin found [here](https://www.ibm.com/developerworks/community/wikis/home?lang=en#!/wiki/We70df3195ec8_4f95_9773_42e448fa9029/page/Downloads%20for%20IBM%C2%AE%20SPSS%C2%AE%20Statistics). The documentation can be found [here](ftp://public.dhe.ibm.com/software/analytics/spss/documentation/statistics/20.0/en/pythonplugin/Manuals/Python_Scripting_Guide_for_IBM_SPSS_Statistics.pdf)\n",
      "* [Paraview](http://www.paraview.org/) has an [interface in Python](http://paraview.org/Wiki/ParaView/Python_Scripting)\n",
      "* [Neurosynth](http://neurosynth.org/) is a platform for large-scale, automated synthesis of functional magnetic resonance imaging (fMRI) data extracted from published articles\n",
      "* [PyXLL](https://www.pyxll.com/) allows you to use python functions directly in Excel"
     ]
    },
    {
     "cell_type": "heading",
     "level": 3,
     "metadata": {},
     "source": [
      "General scientific programming"
     ]
    },
    {
     "cell_type": "markdown",
     "metadata": {},
     "source": [
      "[SciPy](http://scipy.org/) Python-based ecosystem of open-source software for mathematics, science, and engineering. In particular:\n",
      "\n",
      " + [NumPy](http://www.numpy.org/) an N-dimensional array object framework, similar to MATLAB arrays, with useful linear algebra, Fourier transform, and random number capabilities and a few tools for integrating C/C++ and Fortran code. \n",
      " + [SymPy](http://sympy.org/en/index.html) is a Python library for symbolic mathematics. It aims to become a full-featured computer algebra system (CAS) while keeping the code as simple as possible in order to be comprehensible and easily extensible.\n",
      " + [Pandas](http://pandas.pydata.org/) is a library providing high-performance, easy-to-use data structures and data analysis.\n",
      " + [Matplotlib](http://matplotlib.org/) is a 2D plotting library based on MATLAB which produces publication-quality figures in a variety of hard copy formats and interactive environments across platforms. Extended with [seaborn](http://stanford.edu/~mwaskom/software/seaborn/) and [prettyplotlib](http://olgabot.github.io/prettyplotlib/).\n",
      " + [IPython](http://ipython.org/) provides a rich architecture for interactive computing. See much more detail below."
     ]
    },
    {
     "cell_type": "heading",
     "level": 3,
     "metadata": {},
     "source": [
      "Statistical analysis and machine learning"
     ]
    },
    {
     "cell_type": "markdown",
     "metadata": {},
     "source": [
      "*  [pymc](https://pypi.python.org/pypi/pymc/) Markov Chain Monte Carlo sampling toolkit implementing the Metropolis-Hastings algorithm \n",
      "* [Python Mixture Package (PyMix)](http://www.pymix.org/pymix/index.php?n=PyMix.Home) is a freely available Python library implementing algorithms and data structures for a wide variety of data mining applications with basic and extended mixture models\n",
      "* [PyTables](http://pytables.github.io/) is a package for managing hierarchical datasets and designed to efficiently and easily cope with extremely large amounts of data.\n",
      "* [Patsy](http://patsy.readthedocs.org/en/latest/) describes statistical models in Python using symbolic formulas.\n",
      "* [Theano](http://deeplearning.net/software/theano/#) allows you to define, optimize, and evaluate mathematical expressions involving multi-dimensional arrays efficiently."
     ]
    },
    {
     "cell_type": "markdown",
     "metadata": {},
     "source": [
      "[SciKits](http://scikits.appspot.com/about) is a collection of packages too specialised for SciPy. These include:\n",
      "\n",
      " * [StatsModels](http://statsmodels.sourceforge.net/) is a module that allows users to explore data, estimate statistical models, and perform statistical tests. An extensive list of descriptive statistics, statistical tests, plotting functions, and result statistics are available for different types of data and each estimator.\n",
      " * [Learn](http://scikit-learn.org/stable/) machine learning and function fitting libraries.\n",
      " * [Monaco](http://scikits.appspot.com/scikit-monaco) for Monte Carlo integration.\n",
      " * [Data Smooth](http://scikits.appspot.com/datasmooth) for data smoothing package.\n",
      " * [Fitting](http://scikits.appspot.com/fitting) is a framework for fitting functions to data.\n",
      " * [ODE Solver](http://scikits.appspot.com/odes) a package for ordinary differential equation and differential algebraic equation solvers. "
     ]
    },
    {
     "cell_type": "heading",
     "level": 3,
     "metadata": {},
     "source": [
      "Interfacing with other programs"
     ]
    },
    {
     "cell_type": "markdown",
     "metadata": {},
     "source": [
      "* [rpy](http://rpy.sourceforge.net/) is an interface for running R code and relieving the outputs from within Python\n",
      "* [xlrd](https://pypi.python.org/pypi/xlrd) allows you to read in Excel files into Python. Pandas has this built in."
     ]
    },
    {
     "cell_type": "heading",
     "level": 3,
     "metadata": {},
     "source": [
      "Natural language analysis"
     ]
    },
    {
     "cell_type": "markdown",
     "metadata": {},
     "source": [
      "* [Natural Language Toolkit](http://www.nltk.org/) a suite of text processing libraries for classification, tokenization, stemming, tagging, parsing, and semantic reasoning\n",
      "* [Beautiful soup](http://www.crummy.com/software/BeautifulSoup/) is a package for textual data extraction such as screen-scraping"
     ]
    },
    {
     "cell_type": "heading",
     "level": 3,
     "metadata": {},
     "source": [
      "Visulisation and image processing"
     ]
    },
    {
     "cell_type": "markdown",
     "metadata": {},
     "source": [
      "* [Mayavi](http://code.enthought.com/projects/mayavi/) is a tool for easy and interactive visualization of data, with seamless integration with Python scientific libraries.\n",
      "* [OpenCV](http://opencv.org) OpenCV (Open Source Computer Vision Library) is an open source computer vision and machine learning software library. OpenCV was built to provide a common infrastructure for computer vision applications and to accelerate the use of machine perception in the commercial products."
     ]
    },
    {
     "cell_type": "heading",
     "level": 3,
     "metadata": {},
     "source": [
      "Cloud computing"
     ]
    },
    {
     "cell_type": "markdown",
     "metadata": {},
     "source": [
      "* [PythonAnywhere](https://www.pythonanywhere.com/) is a service for developing and hosting online Python applications. Potentially could be used for hosting a complex online study or performing web scraping.\n",
      "* [Amazon Elastic compute cloud](http://aws.amazon.com/ec2/) can be accessed with [StarCluster](http://star.mit.edu/cluster/) and [Boto](http://docs.pythonboto.org/) and used to show [IPython notebooks](https://notebookcloud.appspot.com/docs).\n",
      "* The [Google Compute engine](https://developers.google.com/compute/) is written with Python in mind.\n",
      "* [Multyvac](http://www.multyvac.com/) is an open source system for run computationally and/or data intensive workloads. They have Python libraries for submitting jobs directly from Python to their service or your own server."
     ]
    },
    {
     "cell_type": "heading",
     "level": 3,
     "metadata": {},
     "source": [
      "GUI programming"
     ]
    },
    {
     "cell_type": "markdown",
     "metadata": {},
     "source": [
      "The three main cross-platform GUI libraries are [TkInter](https://wiki.python.org/moin/TkInter), [QT](http://qt-project.org/wiki/PySide) and [wxpython](http://www.wxpython.org/) (with the more pythonic wrapper of [wax](http://waxgui.sourceforge.net/)). \n",
      "For website development there is [Pyjs](http://pyjs.org/)."
     ]
    },
    {
     "cell_type": "heading",
     "level": 1,
     "metadata": {},
     "source": [
      "Resources for learning about Python"
     ]
    },
    {
     "cell_type": "markdown",
     "metadata": {},
     "source": [
      "The simplest place to start is the [official Python tutorial](http://docs.python.org/2.7/tutorial/index.html). Alternatively, for something more aimed at scientists there is the [Crash Course in Python for Scientists](http://nbviewer.ipython.org/gist/rpmuller/5920182) or [Scientific computing in Python](https://github.com/jrjohansson/scientific-python-lectures#online-read-only-versions). An overview of the data analysis aspects can be found with [Statistical analysis made easy in Python with SciPy and pandas DataFrames](http://www.randalolson.com/2012/08/06/statistical-analysis-made-easy-in-python/)"
     ]
    },
    {
     "cell_type": "markdown",
     "metadata": {},
     "source": [
      "If you are already familiar with MATLAB or R you will find the following resources useful:\n",
      "\n",
      "* [Mathesaurus](http://mathesaurus.sourceforge.net/) provides an incomplete set of equivalences between MATLAB, R and Python. Looking at the Python lists I could see some command which are missing, so if it is not listed there may still be a way!\n",
      "* Another resource of the same kind is [NumPy for Matlab Users](http://wiki.scipy.org/NumPy_for_Matlab_Users)"
     ]
    },
    {
     "cell_type": "markdown",
     "metadata": {},
     "source": [
      "Other resources that might be useful are:\n",
      "\n",
      "* [Interactive Python tutorial](http://www.learnpython.org/)\n",
      "* For those wanting to explore the rich data tables of Pandas there is [Learn Pandas](https://bitbucket.org/hrojas/learn-pandas) and [top ten features of Pandas](http://manishamde.github.io/blog/2013/03/07/pandas-and-python-top-10/)\n",
      "* A useful book for Pandas is [Python for Data Analysis](http://shop.oreilly.com/product/0636920023784.do)\n",
      "* [Python for Econometrics](http://www.kevinsheppard.com/Python_for_Econometrics) is a detailed course that was run at the university of Oxford\n",
      "* An interesting article discussing the rise of Python is [The homogenization of scientific computing, or why Python is steadily eating other languages\u2019 lunch](http://www.talyarkoni.org/blog/2013/11/18/the-homogenization-of-scientific-computing-or-why-python-is-steadily-eating-other-languages-lunch/comment-page-1/)"
     ]
    },
    {
     "cell_type": "heading",
     "level": 3,
     "metadata": {},
     "source": [
      "Advanced resources"
     ]
    },
    {
     "cell_type": "markdown",
     "metadata": {},
     "source": [
      "For those of you who have more experience writing code and are asking more difficult questions, the following resources may be more to your interest:\n",
      "\n",
      "* A useful resource of commonly needed code, written in good, *Pythonic* style is the [Python cookbook](http://shop.oreilly.com/product/9780596001674.do) and the [associated online library of code](http://code.activestate.com/recipes/langs/python/).\n",
      "* There are also specialised cookbooks for [Pandas](http://pandas.pydata.org/pandas-docs/stable/cookbook.html) and another for the [SciPy](http://wiki.scipy.org/Cookbook) modules, such as [MatPlotLib](http://wiki.scipy.org/Cookbook/Matplotlib).\n",
      "* If you are used to writing Bash scripts then the article [Python for Bash Scripters](http://magazine.redhat.com/2008/02/07/python-for-bash-scripters-a-well-kept-secret/) is for you.\n",
      "* To compare how the same tasks are written in Python and other programming languages, there is the website [Rosetta Code](http://rosettacode.org/wiki/Category:Python)\n",
      "* [Stackoverflow](http://stackoverflow.com/questions/tagged/python) is a forum for finding answers to commonly and not so commonly asked questions.\n",
      "* If you enjoy the Visual Studio development environment and have been using the [Goldsmiths Dreamspark copy](http://e5.onthehub.com/WebStore/ProductsByMajorVersionList.aspx?ws=c1079a19-836f-e011-971f-0030487d8897&vsro=8), then you can use it for Python with the addon [Python for Visual Studio](http://pytools.codeplex.com/)\n",
      "* To advance your more formal understanding of programming, a resource written using Python examples is [Think Python: How to Think Like a Computer Scientist](http://greenteapress.com/thinkpython/html/index.html)."
     ]
    },
    {
     "cell_type": "markdown",
     "metadata": {},
     "source": [
      "Finally, there is The Zen of Python, describing the design philosophy of the Python community. It can be accessed from within Python with the simple line:"
     ]
    },
    {
     "cell_type": "code",
     "collapsed": false,
     "input": [
      "import this"
     ],
     "language": "python",
     "metadata": {},
     "outputs": [
      {
       "output_type": "stream",
       "stream": "stdout",
       "text": [
        "The Zen of Python, by Tim Peters\n",
        "\n",
        "Beautiful is better than ugly.\n",
        "Explicit is better than implicit.\n",
        "Simple is better than complex.\n",
        "Complex is better than complicated.\n",
        "Flat is better than nested.\n",
        "Sparse is better than dense.\n",
        "Readability counts.\n",
        "Special cases aren't special enough to break the rules.\n",
        "Although practicality beats purity.\n",
        "Errors should never pass silently.\n",
        "Unless explicitly silenced.\n",
        "In the face of ambiguity, refuse the temptation to guess.\n",
        "There should be one-- and preferably only one --obvious way to do it.\n",
        "Although that way may not be obvious at first unless you're Dutch.\n",
        "Now is better than never.\n",
        "Although never is often better than *right* now.\n",
        "If the implementation is hard to explain, it's a bad idea.\n",
        "If the implementation is easy to explain, it may be a good idea.\n",
        "Namespaces are one honking great idea -- let's do more of those!\n"
       ]
      }
     ],
     "prompt_number": 1
    },
    {
     "cell_type": "heading",
     "level": 1,
     "metadata": {},
     "source": [
      "Installing Python"
     ]
    },
    {
     "cell_type": "heading",
     "level": 3,
     "metadata": {},
     "source": [
      "Getting started"
     ]
    },
    {
     "cell_type": "markdown",
     "metadata": {},
     "source": [
      "Unlike Windows, OSX and most Linux distros come with Python 2.\\* preinstalled, but with many of the *\"essential\"* packages for scientific Python generally missing. If you wish to work with this base install then I would recommend reading the next section on installing additional Python packages.\n",
      "\n",
      "If, on the other hand, you do not want to worry about package installations and dependencies and just want things to *work*, I would recommend installing [Anaconda](https://store.continuum.io/cshop/anaconda/), which runs on Windows, Linux or OSX. It installs a copy of Python, a decent set of packages and Spyder in a dedicated folder.\n",
      "\n",
      "An alternative, which I use, on Windows is [PythonXY](http://code.google.com/p/pythonxy/). It caters more towards academia and has a larger featureset than Anaconda installs, but is also a bit more fiddly to maintain."
     ]
    },
    {
     "cell_type": "heading",
     "level": 4,
     "metadata": {},
     "source": [
      "Python 3"
     ]
    },
    {
     "cell_type": "markdown",
     "metadata": {},
     "source": [
      "A few years ago Python development came to a point where [some changes needed to be made](http://python-notes.curiousefficiency.org/en/latest/python3/questions_and_answers.html), but they could not be done in a backwards-compatible fashion. Out of this emerged Python 3 in 2008. Most packages listed here are either compatible with Python 3.2 or greater or maintain versions for both versions. Sadly, a significant number have not yet made the transition, notably specialist packages used by psychologists, such as PsychoPy. It is possible to write Python 2.7 code in a way that is easy to transition to Python 3.\\*, so for now I would recommend concentrating on that."
     ]
    },
    {
     "cell_type": "heading",
     "level": 3,
     "metadata": {},
     "source": [
      "Installing additional Python packages"
     ]
    },
    {
     "cell_type": "markdown",
     "metadata": {},
     "source": [
      "Python packages are most easily installed from the operating system terminal window (or PowerShell in Windows). A series of commands will need to be run in the terminal, shown below, along with the explanations and other instructions. These installations require administrator privileges. Under OSX this is achieved by typing `seudo ` at the beginning of each command line. For Windows this is achieved by opening Powershell with administrator privileges."
     ]
    },
    {
     "cell_type": "markdown",
     "metadata": {},
     "source": [
      "For now the way to install additional module that is guaranteed to work across platforms is by running [easy_install](http://peak.telecommunity.com/DevCenter/EasyInstall) from the terminal. It should already be installed with your basic Python installation, but if not you can install it by downloading and running [ez_setup.py](https://bitbucket.org/pypa/setuptools/raw/bootstrap/ez_setup.py). From the command line this file can be run by typing:"
     ]
    },
    {
     "cell_type": "markdown",
     "metadata": {},
     "source": [
      "`    python ez_setup.py`"
     ]
    },
    {
     "cell_type": "heading",
     "level": 4,
     "metadata": {},
     "source": [
      "Example: installing IPython and notebook dependencies from scratch"
     ]
    },
    {
     "cell_type": "markdown",
     "metadata": {},
     "source": [
      "Once Python has been installed, the dependencies for IPython notebooks can be installed in any order, but are: [IPython](http://ipython.org/), [pyzmq](http://zeromq.github.io/pyzmq/), [Jinja](http://jinja.pocoo.org/), [Tornado](http://www.tornadoweb.org/en/stable/), [readline](http://docs.python.org/2/library/readline.html), [Nose](http://nose.readthedocs.org/en/latest/), [Pexpect](http://www.noah.org/wiki/Pexpect) and [Pygments](http://pygments.org/). To install these run in a terminal:"
     ]
    },
    {
     "cell_type": "markdown",
     "metadata": {},
     "source": [
      "`easy_install ipython`<br /> \n",
      "`easy_install pyzmq`<br /> \n",
      "`easy_install jinja2`<br /> \n",
      "`easy_install tornado`<br /> \n",
      "`easy_install readline`<br /> \n",
      "`easy_install nose`<br /> \n",
      "`easy_install pexpect` <br />\n",
      "`easy_install pygments`"
     ]
    },
    {
     "cell_type": "markdown",
     "metadata": {},
     "source": [
      "To allow off-line modification of any typeset equations we should run in a terminal:"
     ]
    },
    {
     "cell_type": "markdown",
     "metadata": {},
     "source": [
      "`ipython` <br /> \n",
      "`In [1] from IPython.external.mathjax import install_mathjax`<br /> \n",
      "`In [2] install_mathjax()`<br /> \n",
      "`In [3] exit`"
     ]
    },
    {
     "cell_type": "heading",
     "level": 4,
     "metadata": {},
     "source": [
      "Running IPython notebooks"
     ]
    },
    {
     "cell_type": "markdown",
     "metadata": {},
     "source": [
      "Notebooks are opened and run from an interface in a web browser. To access notebooks on your computer you first need to start the *server*. Under Windows this can be done from a shortcut in the Python program folder or from the links provided by the Python distribution. The pre-configured shortcut can be found in my case in `C:\\Python27\\IPython notebook server`."
     ]
    },
    {
     "cell_type": "markdown",
     "metadata": {},
     "source": [
      "This can also be done from the terminal by typing:"
     ]
    },
    {
     "cell_type": "markdown",
     "metadata": {},
     "source": [
      "`    ipython notebook`"
     ]
    },
    {
     "cell_type": "markdown",
     "metadata": {},
     "source": [
      "This will open a webpage showing you an interface to your local IPython server at the address `http://127.0.0.1:8888/tree`. This initially displays any sub-folders and `.ipynb` files in your root directory, which is the one the terminal was in when you ran the command. Clicking on the files will open them in another tab in an editable form."
     ]
    },
    {
     "cell_type": "markdown",
     "metadata": {},
     "source": [
      "There are many options that can be added to this, but for basic use I recommend appending `--pylab=inline`. This has the dual advantage of allowing the insertion of inline graphs, as well as importing [`numpy`](http://docs.scipy.org/doc/numpy/reference/), [`scipy`](http://docs.scipy.org/doc/scipy/reference/) and [`matplotlib.pyplot`](http://matplotlib.org/api/pyplot_api.html) to the notebook's [namespace](http://bytebaker.com/2008/07/30/python-namespaces/). The resulting line is:"
     ]
    },
    {
     "cell_type": "markdown",
     "metadata": {},
     "source": [
      "`    ipython notebook --pylab=inline`"
     ]
    },
    {
     "cell_type": "heading",
     "level": 1,
     "metadata": {},
     "source": [
      "Python package use examples"
     ]
    },
    {
     "cell_type": "heading",
     "level": 3,
     "metadata": {},
     "source": [
      "IPython"
     ]
    },
    {
     "cell_type": "markdown",
     "metadata": {},
     "source": [
      "IPython is at its core a command line for Python that provides [enhanced functionality and interface](http://ipython.org/ipython-doc/stable/interactive/tutorial.html). I would recommend using it whenever you wish to run Python code interactively."
     ]
    },
    {
     "cell_type": "markdown",
     "metadata": {},
     "source": [
      "One of the interfaces IPython provides is called a *notebook*, as has been used to produce this document. \n",
      "It allows for code to be run in *cells* alongside other documentation cells. The outputs for any code is produced alongside the code and the whole document can be shared in a static or dynamic form. \n",
      "The text cells, called [Markdown](http://daringfireball.net/projects/markdown/syntax) cells have quite a [detailed featureset](http://nbviewer.ipython.org/github/ipython/ipython/blob/master/examples/notebooks/Part%204%20-%20Markdown%20Cells.ipynb).\n",
      "Equations can be properly rendered using [MathJax](http://docs.mathjax.org/en/latest/tex.html#defining-tex-macros) and are written using $\\LaTeX$ notation. \n",
      "\n",
      "A brief description of the interface can be found [here](http://nbviewer.ipython.org/github/ipython/ipython/blob/master/examples/notebooks/User%20Interface.ipynb), but those who are more technically minded will be interested to know that notebooks are written in [JSON](https://en.wikipedia.org/wiki/JSON) and so will be well supported in the future. All the examples below are displayed using the [nbviewer](http://ipython.org/ipython-doc/stable/interactive/nbconvert.html), which renders them as static html web pages, but there are links at the top of each page for downloading the notebooks.\n",
      "\n",
      "As this is Python you can plot with any plotting method, but [MatPlotLib](http://nbviewer.ipython.org/github/ipython/ipython/blob/master/examples/notebooks/Part%203%20-%20Plotting%20with%20Matplotlib.ipynb) is more embedded within IPython."
     ]
    },
    {
     "cell_type": "markdown",
     "metadata": {},
     "source": [
      "A page giving examples of IPython notebooks can be found [here](https://github.com/ipython/ipython/wiki/A-gallery-of-interesting-IPython-Notebooks) and some of the most interesting notebooks are:\n",
      "\n",
      "* Numpy performance tricks can be found [here](http://nbviewer.ipython.org/4645217). \n",
      "* An introduction to [Bayesian Methods](http://nbviewer.ipython.org/urls/github.com/CamDavidsonPilon/Probabilistic-Programming-and-Bayesian-Methods-for-Hackers/raw/master/Chapter1_Introduction/Chapter1_Introduction.ipynb).\n",
      "* An overview of the notebook [rich display system](http://nbviewer.ipython.org/url/github.com/ipython/ipython/raw/master/examples/notebooks/Part%205%20-%20Rich%20Display%20System.ipynb).\n",
      "* Notebooks can also run [R code](http://nbviewer.ipython.org/url/github.com/ipython/ipython/raw/master/examples/notebooks/R%20Magics.ipynb).\n",
      "* Notebooks can display a [wide range of media](http://nbviewer.ipython.org/github/ipython/ipython/blob/master/examples/notebooks/Part%205%20-%20Rich%20Display%20System.ipynb), but this can be [extended to cover new types of objects](http://nbviewer.ipython.org/github/ipython/ipython/blob/master/examples/notebooks/Custom%20Display%20Logic.ipynb)"
     ]
    },
    {
     "cell_type": "heading",
     "level": 3,
     "metadata": {},
     "source": [
      "MatPlotLib"
     ]
    },
    {
     "cell_type": "markdown",
     "metadata": {},
     "source": [
      "MatPlotLib is an interface for plotting 2D, and some 3D graphs using a syntax which will be familiar to anybody coming from MATLAB. Many examples can be found in the [MatPlotLib cookbook](http://wiki.scipy.org/Cookbook/Matplotlib)"
     ]
    },
    {
     "cell_type": "code",
     "collapsed": false,
     "input": [
      "%load http://matplotlib.org/mpl_examples/showcase/integral_demo.py"
     ],
     "language": "python",
     "metadata": {},
     "outputs": [],
     "prompt_number": 5
    },
    {
     "cell_type": "code",
     "collapsed": false,
     "input": [
      "\"\"\"\n",
      "Plot demonstrating the integral as the area under a curve.\n",
      "\n",
      "Although this is a simple example, it demonstrates some important tweaks:\n",
      "\n",
      "    * A simple line plot with custom color and line width.\n",
      "    * A shaded region created using a Polygon patch.\n",
      "    * A text label with mathtext rendering.\n",
      "    * figtext calls to label the x- and y-axes.\n",
      "    * Use of axis spines to hide the top and right spines.\n",
      "    * Custom tick placement and labels.\n",
      "\"\"\"\n",
      "import numpy as np\n",
      "import matplotlib.pyplot as plt\n",
      "from matplotlib.patches import Polygon\n",
      "\n",
      "\n",
      "def func(x):\n",
      "    return (x - 3) * (x - 5) * (x - 7) + 85\n",
      "\n",
      "\n",
      "a, b = 2, 9 # integral limits\n",
      "x = np.linspace(0, 10)\n",
      "y = func(x)\n",
      "\n",
      "fig, ax = plt.subplots()\n",
      "plt.plot(x, y, 'r', linewidth=2)\n",
      "plt.ylim(ymin=0)\n",
      "\n",
      "# Make the shaded region\n",
      "ix = np.linspace(a, b)\n",
      "iy = func(ix)\n",
      "verts = [(a, 0)] + list(zip(ix, iy)) + [(b, 0)]\n",
      "poly = Polygon(verts, facecolor='0.9', edgecolor='0.5')\n",
      "ax.add_patch(poly)\n",
      "\n",
      "plt.text(0.5 * (a + b), 30, r\"$\\int_a^b f(x)\\mathrm{d}x$\",\n",
      "         horizontalalignment='center', fontsize=20)\n",
      "\n",
      "plt.figtext(0.9, 0.05, '$x$')\n",
      "plt.figtext(0.1, 0.9, '$y$')\n",
      "\n",
      "ax.spines['right'].set_visible(False)\n",
      "ax.spines['top'].set_visible(False)\n",
      "ax.xaxis.set_ticks_position('bottom')\n",
      "\n",
      "ax.set_xticks((a, b))\n",
      "ax.set_xticklabels(('$a$', '$b$'))\n",
      "ax.set_yticks([])\n",
      "\n",
      "plt.show()\n"
     ],
     "language": "python",
     "metadata": {},
     "outputs": [
      {
       "metadata": {},
       "output_type": "display_data",
       "png": "[encoded data removed]",
       "text": [
        "<matplotlib.figure.Figure at 0x4bbce70>"
       ]
      }
     ],
     "prompt_number": 6
    }
   ],
   "metadata": {}
  }
 ]
}